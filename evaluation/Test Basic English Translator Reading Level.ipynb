{
 "cells": [
  {
   "cell_type": "markdown",
   "metadata": {},
   "source": [
    "# Evaluation of Basic English Translator"
   ]
  },
  {
   "cell_type": "markdown",
   "metadata": {},
   "source": [
    "To evaluate the [BasicEnglishTranslator](https://github.com/NeverForged/GhostWriter/blob/master/source/BasicEnglishTranslator.py),  I have scraped a number of entries from both [Simple English Wikipedia](https://simple.wikipedia.org/wiki/Main_Page) and regular (english) [Wikipeda](https://en.wikipedia.org/wiki/Main_Page).  For the latter, same articles, but more complex text (and a better test of the overall functionality, since it will encounter words it wasn't trained on initially).\n",
    "\n",
    "First, to look through the articles and make sure they are valid:"
   ]
  },
  {
   "cell_type": "code",
   "execution_count": 1,
   "metadata": {
    "collapsed": true
   },
   "outputs": [],
   "source": [
    "# Loding in my articles, saved in the main running of BasicEnglishTranslator.py\n",
    "import cPickle as pickle\n",
    "articles = pickle.load(open('../data/articles.pickle', 'rb'))\n",
    "keys = articles.keys()"
   ]
  },
  {
   "cell_type": "code",
   "execution_count": 2,
   "metadata": {},
   "outputs": [
    {
     "name": "stdout",
     "output_type": "stream",
     "text": [
      "We have 62 articles (of 62 non-blank).\n"
     ]
    }
   ],
   "source": [
    "si_entries = []\n",
    "en_entries = []\n",
    "\n",
    "bad = 'we could not find the above page on our servers. did you mean'\n",
    "\n",
    "not_blank = 0\n",
    "for key in articles.keys():\n",
    "        if bad not in articles[key][2]:\n",
    "            not_blank += 1\n",
    "            if key[:2] == 'en':\n",
    "                en_entries.append((articles[key][0], articles[key][2]))\n",
    "            elif key[:2] == 'si':\n",
    "                si_entries.append((articles[key][0], articles[key][2]))\n",
    "\n",
    "print 'We have {} articles (of {} non-blank).'.format(len(si_entries) + len(en_entries), not_blank)"
   ]
  },
  {
   "cell_type": "markdown",
   "metadata": {},
   "source": [
    "We can judge the general complexity of these articles using [Flesch-Kincaid](https://en.wikipedia.org/wiki/Flesch%E2%80%93Kincaid_readability_tests#Flesch.E2.80.93Kincaid_grade_level) reading-ease scores... "
   ]
  },
  {
   "cell_type": "code",
   "execution_count": 3,
   "metadata": {
    "collapsed": true
   },
   "outputs": [],
   "source": [
    "def count_syllables(word):\n",
    "    count = 0\n",
    "    vowels = 'aeiouy'\n",
    "    word = word.lower().strip(\".:;?!\")\n",
    "    if word[0] in vowels:\n",
    "        count +=1\n",
    "    for index in range(1,len(word)):\n",
    "        if word[index] in vowels and word[index-1] not in vowels:\n",
    "            count +=1\n",
    "    if word.endswith('e'):\n",
    "        count -= 1\n",
    "    if word.endswith('le'):\n",
    "        count+=1\n",
    "    if count == 0:\n",
    "        count +=1\n",
    "    return count"
   ]
  },
  {
   "cell_type": "code",
   "execution_count": 4,
   "metadata": {
    "collapsed": true
   },
   "outputs": [],
   "source": [
    "from nltk.corpus import cmudict\n",
    "from nltk import pos_tag, word_tokenize\n",
    "import string\n",
    "import re\n",
    "\n",
    "def calc_fk(text):\n",
    "    '''\n",
    "    Flesch-Kincaid gives the approximate US School reading level of text:\n",
    "             0.39 (words/sentences) + 11.8(syllables/words) - 115.59\n",
    "    '''\n",
    "    punctuation = \".?!\"\n",
    "    prt = set(string.printable)\n",
    "    if type(text) ==  list:\n",
    "        text = ' '.join(text)\n",
    "    text = filter(lambda x: x in prt, text)\n",
    "    text = text.encode('utf-8')\n",
    "    text = re.sub(\"\\xe2\\x80\\x93\", \"-\", text)\n",
    "    sentences = 0\n",
    "    syllables = 0\n",
    "    n_words = 0\n",
    "    words = pos_tag(word_tokenize(text))\n",
    "    text = text\n",
    "    for word in words:\n",
    "        if word[1] in punctuation:\n",
    "            sentences += 1.0\n",
    "        elif len(word[1]) >= 2:\n",
    "            syllables += float(count_syllables(word[0]))\n",
    "            n_words += 1.0\n",
    "    else:\n",
    "        if sentences == 0 or sentences == 0.0:\n",
    "            sentences = 1.0\n",
    "        try:\n",
    "            return 0.39 * (n_words/sentences) + 11.8 * (syllables/n_words) - 15.59\n",
    "        except:\n",
    "            print sentences, n_words"
   ]
  },
  {
   "cell_type": "markdown",
   "metadata": {},
   "source": [
    "We will now calculate the Flesch-Kincaid grade-level of our articles, both the original and the translated."
   ]
  },
  {
   "cell_type": "code",
   "execution_count": 5,
   "metadata": {
    "collapsed": true
   },
   "outputs": [],
   "source": [
    "import numpy as np\n",
    "\n",
    "Xb = []\n",
    "yb = []\n",
    "Xr = []\n",
    "yr = []\n",
    "for text in en_entries:\n",
    "    Xr.append([calc_fk(text[0]), calc_fk([text[1]])])\n",
    "    yr.append('r')\n",
    "\n",
    "        \n",
    "for text in si_entries:\n",
    "    Xb.append([calc_fk(text[0]), calc_fk([text[1]])])\n",
    "    yb.append('b')\n",
    "    \n",
    "Xb = np.array(Xb)\n",
    "Xr = np.array(Xr)"
   ]
  },
  {
   "cell_type": "markdown",
   "metadata": {},
   "source": [
    "Now we can look at which documents have become easier to read and which have become harder to read; we'll do this by graphing the original reading level on the x-axis, and new - original on the y-axis.  Documents in the lower-half of the graph have become easier t0 read."
   ]
  },
  {
   "cell_type": "code",
   "execution_count": 8,
   "metadata": {},
   "outputs": [
    {
     "data": {
      "image/png": "[encoded data removed]",
      "text/plain": [
       "<matplotlib.figure.Figure at 0x13343e80>"
      ]
     },
     "metadata": {},
     "output_type": "display_data"
    }
   ],
   "source": [
    "import matplotlib.pyplot as plt\n",
    "%matplotlib inline\n",
    "\n",
    "plt.figure(figsize=(6, 6))\n",
    "plt.title(\"Flesch-Kincaid Reading Level Changes\")\n",
    "plt.xlabel('Flesch-Kincaid Reading Level of Original Article')\n",
    "plt.ylabel(r'$\\Delta$Flesh-Kincaid Score ($Translation - Original$)')\n",
    "plt.scatter(Xb[:, 1], Xb[:, 0] - Xb[:, 1], label='Simple Wikipedia', c=yb, s=75, alpha=0.65)\n",
    "plt.scatter(Xr[:, 1], Xr[:, 0] - Xr[:, 1], label='Wikipedia', c=yr, s=75, alpha=0.65)\n",
    "xx = np.linspace(0.0, Xr[:, 0].max()+0.3, 17)\n",
    "yy = xx * 0\n",
    "plt.plot(xx, yy, c='k')\n",
    "plt.xlim(0.0, Xr[:, 0].max() + 0.3)\n",
    "plt.legend()\n",
    "plt.text(0.1, -0.1, '- Easier to Read -')\n",
    "plt.text(0.1, 0.05, '- Harder to Read -')\n",
    "plt.show()"
   ]
  },
  {
   "cell_type": "code",
   "execution_count": null,
   "metadata": {
    "collapsed": true
   },
   "outputs": [],
   "source": []
  }
 ],
 "metadata": {
  "kernelspec": {
   "display_name": "Python 2",
   "language": "python",
   "name": "python2"
  },
  "language_info": {
   "codemirror_mode": {
    "name": "ipython",
    "version": 2
   },
   "file_extension": ".py",
   "mimetype": "text/x-python",
   "name": "python",
   "nbconvert_exporter": "python",
   "pygments_lexer": "ipython2",
   "version": "2.7.13"
  }
 },
 "nbformat": 4,
 "nbformat_minor": 2
}
