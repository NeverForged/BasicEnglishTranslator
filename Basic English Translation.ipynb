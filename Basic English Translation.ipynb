{
 "cells": [
  {
   "cell_type": "markdown",
   "metadata": {},
   "source": [
    "# Basic English Translation and Model"
   ]
  },
  {
   "cell_type": "markdown",
   "metadata": {},
   "source": [
    "## Objective "
   ]
  },
  {
   "cell_type": "markdown",
   "metadata": {},
   "source": [
    "To create a dictionary to save my basic english translation of words as a list, where position 0 is the word to go to, and 1 -> end are other related words, generally the single word that matched to get us to a word, in order to apply graph theory to my model performance (likey to see what codes to the basic words in Ogden's Basic English)\n",
    "\n",
    "Will also save all things I analyse to a single model in gensim, and will switch to it once it is larger than google-news."
   ]
  },
  {
   "cell_type": "code",
   "execution_count": 1,
   "metadata": {},
   "outputs": [
    {
     "name": "stderr",
     "output_type": "stream",
     "text": [
      "c:\\users\\darin\\anaconda2\\lib\\site-packages\\gensim\\utils.py:860: UserWarning: detected Windows; aliasing chunkize to chunkize_serial\n",
      "  warnings.warn(\"detected Windows; aliasing chunkize to chunkize_serial\")\n"
     ]
    }
   ],
   "source": [
    "# IMPORTS\n",
    "import pandas as pd\n",
    "import cPickle as pickle\n",
    "from nltk.stem.lancaster import LancasterStemmer\n",
    "from sklearn.feature_extraction.text import CountVectorizer\n",
    "from gensim.models import Word2Vec\n",
    "import gensim as gensim\n",
    "import string\n",
    "import re\n",
    "import nltk.data\n",
    "import time\n"
   ]
  },
  {
   "cell_type": "code",
   "execution_count": 2,
   "metadata": {
    "collapsed": true
   },
   "outputs": [],
   "source": [
    "# Convert basic english words to a list\n",
    "basic_english_df = pd.read_csv('data/basic_english_wordlist.csv')\n",
    "basic_english = [a for a in basic_english_df['WORD']]\n",
    "# add the various conjugations of 'to be' and 'a'\n",
    "basic_english.append('an')\n",
    "basic_english.append('is')\n",
    "basic_english.append('was')\n",
    "basic_english.append('are')\n",
    "basic_english.append('were')\n",
    "basic_english.append('they')\n",
    "basic_english[350] = 'big' # 'I' causing weird issues...\n",
    "basic_english.append('she')\n",
    "basic_english.append('hers')\n",
    "basic_english.append('his')\n",
    "basic_english.append('my')\n",
    "basic_english.append('him')\n",
    "basic_english.append('her')\n",
    "basic_english.append('your')\n",
    "basic_english.append('their')\n",
    "basic_english.append('might')\n",
    "basic_english.append('must')\n",
    "basic_english.append('can')\n",
    "basic_english.append('did')\n",
    "basic_english.append('could')\n",
    "basic_english.append('should')\n",
    "basic_english.append('would')\n",
    "basic_english.append('that')\n",
    "basic_english.append('what')\n",
    "basic_english.append('we')\n",
    "basic_english.append('small')\n",
    "basic_english[basic_english.index('colour')] = 'color'\n"
   ]
  },
  {
   "cell_type": "code",
   "execution_count": 3,
   "metadata": {},
   "outputs": [
    {
     "name": "stderr",
     "output_type": "stream",
     "text": [
      "c:\\users\\darin\\anaconda2\\lib\\site-packages\\ipykernel_launcher.py:2: ParserWarning: Falling back to the 'python' engine because the 'c' engine does not support regex separators (separators > 1 char and different from '\\s+' are interpreted as regex); you can avoid this warning by specifying engine='python'.\n",
      "  \n"
     ]
    }
   ],
   "source": [
    "# adding contractions...\n",
    "contractions_df = pd.read_csv('data/contractions.csv', sep=' -')\n",
    "contractions = [word for word in contractions_df['from']]\n",
    "contractions[18] = \"mightn't\"\n"
   ]
  },
  {
   "cell_type": "code",
   "execution_count": 4,
   "metadata": {},
   "outputs": [
    {
     "name": "stdout",
     "output_type": "stream",
     "text": [
      "54.40s\n"
     ]
    }
   ],
   "source": [
    "start = time.clock()\n",
    "Google_model = gensim.models.KeyedVectors.load_word2vec_format('./model/GoogleNews-vectors-negative300.bin', binary=True)\n",
    "print '{:.2f}s'.format(time.clock() - start)"
   ]
  },
  {
   "cell_type": "code",
   "execution_count": 30,
   "metadata": {},
   "outputs": [
    {
     "name": "stdout",
     "output_type": "stream",
     "text": [
      "3000000\n"
     ]
    }
   ],
   "source": [
    "vocab_google = Google_model.vocab.keys()\n",
    "print len(vocab_google)"
   ]
  },
  {
   "cell_type": "code",
   "execution_count": 6,
   "metadata": {
    "collapsed": true,
    "scrolled": true
   },
   "outputs": [],
   "source": [
    "try:\n",
    "    my_dict = pickle.load(open('data/basic_english.pickle', \"rb\" ))\n",
    "except:\n",
    "    st = LancasterStemmer()\n",
    "    stem_gn = [st.stem(key) for key in Google_model.vocab.keys()]\n",
    "    stem_se = [st.stem(word) for word in basic_english]\n",
    "    print 'No saved dictionary...'\n",
    "    my_dict = {}\n",
    "    threshold = 0.25\n",
    "    for sim_in in xrange(len(basic_english)-1, 0, -1):\n",
    "        print\n",
    "        print basic_english[sim_in]\n",
    "        print '**'*8\n",
    "        indices = [i for i, s in enumerate(stem_gn) if stem_se[sim_in] == s]\n",
    "        check = [i for i, s in enumerate(vocab_google) if basic_english[sim_in] == s]\n",
    "        #print check, indices\n",
    "        if len(check) > 0:\n",
    "            for index in indices: \n",
    "                if Google_model.similarity(basic_english[sim_in], vocab_google[index]) >= threshold:\n",
    "                    print '{} -> {}'.format(vocab_google[index], Google_model.similarity(basic_english[sim_in], vocab_google[index]))\n",
    "                    my_dict[vocab_google[index].lower()] = [vocab_google[index].lower(), basic_english[sim_in].lower()]\n",
    "        my_dict[basic_english[sim_in].lower()] = [basic_english[sim_in].lower(), basic_english[sim_in].lower()]\n",
    "        \n",
    "    my_dict['i'] = ['i','i'] # add 'I\n",
    "    basic_english.append('i')\n",
    "    for word in basic_english:\n",
    "        wordy = word\n",
    "        if len(word) <= 1:\n",
    "            wordy = word+\"'\"\n",
    "        for con in contractions:\n",
    "            if wordy.lower() in con.lower()[0:len(wordy)]:\n",
    "                my_dict[con.lower()] = [con.lower(), word.lower()]\n",
    "    my_dict[\"am\"] = ['am','am']\n",
    "    my_dict[\"a\"] = ['a','a']\n",
    "#     with open('data/basic_english.pickle', 'wb') as handle:\n",
    "#          pickle.dump(my_dict, handle, protocol=pickle.HIGHEST_PROTOCOL)\n"
   ]
  },
  {
   "cell_type": "code",
   "execution_count": 7,
   "metadata": {
    "collapsed": true
   },
   "outputs": [],
   "source": [
    "hold_dict = my_dict.copy()"
   ]
  },
  {
   "cell_type": "code",
   "execution_count": 64,
   "metadata": {
    "collapsed": true
   },
   "outputs": [],
   "source": [
    "import time as time\n",
    "import sys \n",
    "from nltk import pos_tag, word_tokenize\n",
    "from math import sqrt\n",
    "\n",
    "\n",
    "def make_simple_english(input_text, threshold=0, dictionary=hold_dict, save_bypass=False):\n",
    "    '''\n",
    "    Return the input_text translated into simple english\n",
    "    Input: String\n",
    "    Output: String\n",
    "    '''\n",
    "    temp_dict = {}\n",
    "    temp_dict = hold_dict.copy()\n",
    "    if threshold == 0:\n",
    "        threshold = 60.0/sqrt(len(input_text))\n",
    "    done = 0\n",
    "    # timer...\n",
    "    start= time.clock()\n",
    "    input_text = input_text.replace('—',' - ').replace(\"’\",\" ' \")\n",
    "    input_text = ''.join([a if ord(a) < 128 else '' for a in list(input_text)])\n",
    "    words = pos_tag(word_tokenize(input_text)) # makes a list of words...\n",
    "\n",
    "    # These simply pass thru the model\n",
    "    pass_thru = ['CD', # CD: numeral, cardinal\n",
    "                 'EX', # EX: existential there\n",
    "                 'FW', # FW: foreign word\n",
    "                 'LS', # LS: list item marker\n",
    "                 'NNP', # NNP: noun, proper, singular\n",
    "                 'NNPS', # NNPS: noun, proper, plural\n",
    "                 'PRP', # PRP: pronoun, personal\n",
    "                 'SYM', # SYM: symbol\n",
    "                 'TO', # TO: \"to\" as preposition or infinitive marker\n",
    "                 'POS',\n",
    "                 '$', # $: dollar\n",
    "                 '(',\n",
    "                 ')',\n",
    "                 ',',\n",
    "                 '.',\n",
    "                 ':',\n",
    "                 '\"'\n",
    "                ] \n",
    "    # make these Basic\n",
    "    make_simple = ['CC', # CC: conjunction, coordinating\n",
    "                   'DT', # DT: determiner\n",
    "                   'IN', # IN: preposition or conjunction, subordinating\n",
    "                   'JJ', # JJ: adjective or numeral, ordinal\n",
    "                   'JJR', # JJR: adjective, comparative\n",
    "                   'JJS', # JJR: adjective, comparative\n",
    "                   'MD', # MD: modal auxiliary\n",
    "                   'NN', # NN: noun, common, singular or mass\n",
    "                   'NNS', # NNS: noun, common, plural\n",
    "                   'PDT', # PDT: pre-determiner\n",
    "                   'PDT', # PDT: pre-determiner\n",
    "                   'PRP$', # PRP$: pronoun, possessive\n",
    "                   'RB', # RB: adverb\n",
    "                   'RBR', # RBR: adverb, comparative\n",
    "                   'RBS', # RBS: adverb, superlative\n",
    "                   'RP', # RP: particle\n",
    "                   'UH', # UH: interjection\n",
    "                   'VB', # VB: verb, base form\n",
    "                   'VBD', # VBD: verb, past tense\n",
    "                   'VBG', # VBG: verb, present participle or gerund\n",
    "                   'VBN', # VBN: verb, past participle\n",
    "                   'VBP', # VBP: verb, present tense, not 3rd person singular\n",
    "                   'VBZ', # VBZ: verb, present tense, 3rd person singular\n",
    "                   'WDT', # WDT: WH-determiner\n",
    "                   'WP', # WP: WH-pronoun\n",
    "                   'WP$', # WP$: WH-pronoun, possessive\n",
    "                   'WRB' #WRB: Wh-adverb\n",
    "                  ]\n",
    "    done == 0\n",
    "    count_replacements = 0\n",
    "    lst_ret = []\n",
    "    for word in words:\n",
    "        if word[1] in pass_thru:\n",
    "            # put it in and move on... it's proper or whatever\n",
    "            lst_ret.append(word[0])\n",
    "        else:\n",
    "            # We have a word we need to replace...\n",
    "            clean = word[0].strip(string.punctuation).lower() # bath it...\n",
    "            # ...and bring it to the function\n",
    "            if clean in temp_dict.keys():  # already simple... throw it in and move on\n",
    "                lst_ret.append(retain_capitalization(temp_dict[clean][0], word[0]))\n",
    "            elif clean != '': # not alread simply/basic...\n",
    "                start_this = time.clock() # timing for testing\n",
    "                try: # in case it fails...\n",
    "                    lst = list(set(Google_model.most_similar(clean)))\n",
    "                    done = 0\n",
    "                    n = 0\n",
    "                    while done == 0:\n",
    "                        check = list(lst)[n][0]\n",
    "                        n +=1\n",
    "                        check_clean = check.strip(string.punctuation).lower()\n",
    "                        if check_clean in temp_dict.keys():\n",
    "                            done = 1\n",
    "                            # add to dictionary...based on what's there, retaining grouping info\n",
    "                            temp_dict[clean] = [temp_dict[check_clean][0], check_clean]\n",
    "                            if save_bypass:\n",
    "                                my_dict[clean.lower()] = [temp_dict[check_clean][0].lower(), check_clean.lower()]\n",
    "                            # add to lst\n",
    "                            lst_ret.append(retain_capitalization(temp_dict[clean][0], word[0]))\n",
    "                            # print \"     {}: {} -> {} ({}s) {}\".format(word, clean, temp_dict[check_clean][0].lower(), time.clock()-start_this, n)\n",
    "                        else:\n",
    "                            # add all similar words to that to the lst\n",
    "                            if time.clock() - start_this < threshold:\n",
    "                                [lst.append(a) for a in Google_model.most_similar(check, topn=3) if a not in lst]\n",
    "                            else: # timeout!\n",
    "                                done = 1\n",
    "                                temp_dict[clean] = [clean.lower(), clean.lower()]\n",
    "                                lst_ret.append(retain_capitalization(temp_dict[clean][0], word[0]))\n",
    "                                # print \"     {}: {} -> {} ({}s) {}\".format(word, clean.lower(),  temp_dict[clean][0], time.clock()-start_this, n)         \n",
    "                                # timeouts = add if training off simple wikipedia\n",
    "                                if save_bypass:\n",
    "                                    my_dict[clean] = [clean.lower(), clean.lower()]\n",
    "                except:\n",
    "                    lst_ret.append(retain_capitalization(word[0], word[0]))\n",
    "                    temp_dict[word[0].lower()] = word[0].lower()\n",
    "                    # print \"     >{}: {} [->] {} ({}s)\".format(word, clean, word[0], time.clock()-start_this)\n",
    "\n",
    "    end = time.clock()\n",
    "    print 'Time: {:.2f}s'.format(end-start)\n",
    "    txt = replace_punctuation(' '.join(lst_ret))\n",
    "    txt = txt.encode('utf-8')\n",
    "    txt = re.sub(\"\\xe2\\x80\\x93\", \"-\", txt)\n",
    "    return txt\n",
    "\n",
    "\n",
    "def retain_capitalization(new_word, original_word):\n",
    "    '''\n",
    "    Checks the original_word for capitalization, if it has it, capitalizes the frst letter\n",
    "    of new_word, returns new_word.\n",
    "    '''\n",
    "    if original_word[0] in list('ABCDEFGHIJKLMNOPQRSTUVWXYZ'):\n",
    "        lst = list(new_word)\n",
    "        lst[0] = lst[0].upper()\n",
    "        new_word = ''.join(lst)\n",
    "    return new_word\n",
    "\n",
    "\n",
    "def replace_punctuation(text):\n",
    "    '''\n",
    "    Tokenizing takes the punctuation as it's own item in the list.\n",
    "    This takes the created string and replaces all 'end ?' with 'end?'\n",
    "    '''\n",
    "    text = text.replace(' .','.')\n",
    "    text = text.replace(' ?','?')\n",
    "    text = text.replace(' !','!')\n",
    "    text = text.replace(' ,',',')\n",
    "    text = text.replace(' ;',';')\n",
    "    text = text.replace(' \"','\"')\n",
    "    text = text.replace(\" '\",\"'\")\n",
    "    text = text.replace('( ','(')\n",
    "    text = text.replace(' )',')')\n",
    "    text = text.replace('$ ','$')\n",
    "    text = text.replace(' *','*')\n",
    "    return text"
   ]
  },
  {
   "cell_type": "code",
   "execution_count": 76,
   "metadata": {
    "collapsed": true
   },
   "outputs": [],
   "source": [
    "MyText = '''\n",
    "\n",
    "Psychology is the study of the mind and of thought, feeling, and behaviour. It is an academic and applied discipline which involves the scientific study of mental functions and behaviours.[1][2][3][4][5]\n",
    "\n",
    "Psychology deals mainly with humans but also sometimes with animals. Because psychology is difficult to study as a whole, psychologists often only look at small parts of it at one time. Psychology has much in common with many other fields, and overlaps with many of them. Some of these fields are medicine, ethology, computer science, and linguistics.\n",
    "\n",
    "In this field, a professional practitioner or researcher is called a psychologist and is a social, behavioural, or cognitive scientist. Psychologists attempt to understand the role of mental functions in individual and social behavior. They also explore the physiological and neurobiological processes which underlie cognitive functions and behaviours.\n",
    "\n",
    "'''"
   ]
  },
  {
   "cell_type": "code",
   "execution_count": 77,
   "metadata": {
    "collapsed": true
   },
   "outputs": [],
   "source": [
    "hold_dict = my_dict.copy()"
   ]
  },
  {
   "cell_type": "code",
   "execution_count": 78,
   "metadata": {
    "collapsed": true
   },
   "outputs": [],
   "source": [
    "# Define a function to split a book into parsed sentences\n",
    "def book_to_sentences(input_text, tokenizer, remove_stopwords=False ):\n",
    "    # Function to split a review into parsed sentences. Returns a \n",
    "    # list of sentences, where each sentence is a list of words\n",
    "    #\n",
    "    # 1. Use the NLTK tokenizer to split the paragraph into sentences\n",
    "    raw_sentences = tokenizer.tokenize(input_text.encode(\"ascii\",\"ignore\").strip())\n",
    "    #\n",
    "    # 2. Loop over each sentence\n",
    "    sentences = []\n",
    "    for raw_sentence in raw_sentences:\n",
    "        # If a sentence is empty, skip it\n",
    "        if len(raw_sentence) > 0:\n",
    "            # Otherwise, call review_to_wordlist to get a list of words\n",
    "            sentences.append( book_to_wordlist( raw_sentence, remove_stopwords ))\n",
    "    #\n",
    "    # Return the list of sentences (each sentence is a list of words,\n",
    "    # so this returns a list of lists\n",
    "    return sentences\n",
    "\n",
    "def book_to_wordlist(book_text, remove_stopwords=False ):\n",
    "    # Function to convert a document to a sequence of words,\n",
    "    # optionally removing stop words.  Returns a list of words.\n",
    "    #\n",
    "    #  \n",
    "    #  Decode from UTF-8\n",
    "#     tbl = dict.fromkeys(i for i in xrange(sys.maxunicode)\n",
    "#               if unicodedata.category(unichr(i)).startswith('P'))\n",
    "#     book_text = book.text.translate(tbl)\n",
    "\n",
    "    #\n",
    "    # 3. Convert words to lower case and split themstring.decode('utf-8')\n",
    "    words = book_text.lower().split()\n",
    "    #\n",
    "    # 4. Optionally remove stop words (false by default)\n",
    "    if remove_stopwords:\n",
    "        stops = set(stopwords.words(\"english\"))\n",
    "        words = [w for w in words if not w in stops]\n",
    "    #\n",
    "    # 5. Return a list of words\n",
    "    return words"
   ]
  },
  {
   "cell_type": "code",
   "execution_count": 79,
   "metadata": {
    "collapsed": true
   },
   "outputs": [],
   "source": [
    "\n",
    "\n",
    "# Initialize the \"CountVectorizer\" object, which is scikit-learn's\n",
    "# bag of words tool.  \n",
    "vectorizer = CountVectorizer(analyzer = \"word\",   \n",
    "                             tokenizer = None,    \n",
    "                             preprocessor = None, \n",
    "                             stop_words = None,   \n",
    "                             max_features = 5000) \n",
    "\n",
    "# fit_transform() does two functions: First, it fits the model\n",
    "# and learns the vocabulary; second, it transforms our training data\n",
    "# into feature vectors. The input to fit_transform should be a list of \n",
    "# strings.\n",
    "features = vectorizer.fit_transform([MyText])\n",
    "\n",
    "# Numpy arrays are easy to work with, so convert the result to an \n",
    "# array\n",
    "features = features.toarray()\n",
    "vocab = vectorizer.get_feature_names()\n",
    "\n",
    "# Load the punkt tokenizer\n",
    "tokenizer = nltk.data.load('tokenizers/punkt/english.pickle')"
   ]
  },
  {
   "cell_type": "code",
   "execution_count": 80,
   "metadata": {},
   "outputs": [
    {
     "name": "stdout",
     "output_type": "stream",
     "text": [
      "loading existant set of sentences\n",
      "Parsing sentences from training set\n"
     ]
    }
   ],
   "source": [
    "# Load in sentences\n",
    "print 'loading existant set of sentences'\n",
    "try:\n",
    "    sentences = pickle.load(open('data/sentences.pickle', \"rb\" ))\n",
    "except:\n",
    "    print 'load failed'\n",
    "    sentences = []  # Initialize an empty list of sentences\n",
    "print \"Parsing sentences from training set\"\n",
    "MyText = MyText.replace('—',' - ').replace(\"’\",\" ' \").replace('ö','o').encode('ascii', 'replace')\n",
    "sentences += book_to_sentences(MyText, tokenizer)\n",
    "\n",
    "with open('data/sentences.pickle', 'wb') as handle:\n",
    "     pickle.dump(sentences, handle, protocol=pickle.HIGHEST_PROTOCOL)"
   ]
  },
  {
   "cell_type": "code",
   "execution_count": 81,
   "metadata": {},
   "outputs": [
    {
     "name": "stderr",
     "output_type": "stream",
     "text": [
      "2017-06-27 09:44:22,885 : INFO : collecting all words and their counts\n",
      "2017-06-27 09:44:22,888 : INFO : PROGRESS: at sentence #0, processed 0 words, keeping 0 word types\n",
      "2017-06-27 09:44:22,892 : INFO : collected 1589 word types from a corpus of 5147 raw words and 337 sentences\n",
      "2017-06-27 09:44:22,894 : INFO : Loading a fresh vocabulary\n",
      "2017-06-27 09:44:22,898 : INFO : min_count=5 retains 173 unique words (10% of original 1589, drops 1416)\n",
      "2017-06-27 09:44:22,900 : INFO : min_count=5 leaves 3141 word corpus (61% of original 5147, drops 2006)\n",
      "2017-06-27 09:44:22,904 : INFO : deleting the raw counts dictionary of 1589 items\n",
      "2017-06-27 09:44:22,904 : INFO : sample=0.001 downsamples 84 most-common words\n",
      "2017-06-27 09:44:22,907 : INFO : downsampling leaves estimated 1537 word corpus (48.9% of prior 3141)\n",
      "2017-06-27 09:44:22,908 : INFO : estimated required memory for 173 words and 300 dimensions: 501700 bytes\n",
      "2017-06-27 09:44:22,911 : INFO : resetting layer weights\n",
      "2017-06-27 09:44:22,917 : INFO : training model with 4 workers on 173 vocabulary and 300 features, using sg=0 hs=0 sample=0.001 negative=5 window=10\n",
      "2017-06-27 09:44:22,934 : INFO : worker thread finished; awaiting finish of 3 more threads\n",
      "2017-06-27 09:44:22,938 : INFO : worker thread finished; awaiting finish of 2 more threads\n",
      "2017-06-27 09:44:22,943 : INFO : worker thread finished; awaiting finish of 1 more threads\n",
      "2017-06-27 09:44:22,947 : INFO : worker thread finished; awaiting finish of 0 more threads\n",
      "2017-06-27 09:44:22,950 : INFO : training on 25735 raw words (7608 effective words) took 0.0s, 319788 effective words/s\n",
      "2017-06-27 09:44:22,953 : WARNING : under 10 jobs per worker: consider setting a smaller `batch_words' for smoother alpha decay\n",
      "2017-06-27 09:44:22,957 : INFO : saving Word2Vec object under data/all_parsed300features_5min_word_count_10context.npy, separately None\n",
      "2017-06-27 09:44:22,960 : INFO : not storing attribute syn0norm\n",
      "2017-06-27 09:44:22,963 : INFO : not storing attribute cum_table\n",
      "2017-06-27 09:44:22,976 : INFO : saved data/all_parsed300features_5min_word_count_10context.npy\n"
     ]
    },
    {
     "name": "stdout",
     "output_type": "stream",
     "text": [
      "Training model...\n",
      "0.09s\n",
      "173\n"
     ]
    }
   ],
   "source": [
    "# Import the built-in logging module and configure it so that Word2Vec \n",
    "# creates nice output messages\n",
    "\n",
    "import logging\n",
    "logging.basicConfig(format='%(asctime)s : %(levelname)s : %(message)s',\\\n",
    "    level=logging.INFO)\n",
    "\n",
    "start = time.clock()\n",
    "# Set values for various parameters\n",
    "num_features = 300    # Word vector dimensionality                      \n",
    "min_word_count = 5   # Minimum word count                        \n",
    "num_workers = 4       # Number of threads to run in parallel\n",
    "context = 10          # Context window size                                                                                    \n",
    "downsampling = 1e-3   # Downsample setting for frequent words\n",
    "\n",
    "# Initialize and train the model (this will take some time)\n",
    "from gensim.models import word2vec\n",
    "\n",
    "model_name = 'all_parsed'+str(num_features)+'features_'+str(min_word_count)+'min_word_count_'+str(context)+'context.npy'\n",
    "\n",
    "print \"Training model...\"\n",
    "model = word2vec.Word2Vec(sentences, workers=num_workers, \n",
    "                          size=num_features, min_count = min_word_count, \n",
    "                          window = context, sample = downsampling)\n",
    "\n",
    "# If you don't plan to train the model any further, calling \n",
    "# init_sims will make the model much more memory-efficient.\n",
    "# model.init_sims(replace=True)\n",
    "\n",
    "# It can be helpful to create a meaningful model name and \n",
    "# save the model for later use. You can load it later using Word2Vec.load()\n",
    "\n",
    "model.save('data/'+model_name)\n",
    "print '{:.2f}s'.format(time.clock() - start)\n",
    "print len(model.wv.vocab.keys())"
   ]
  },
  {
   "cell_type": "code",
   "execution_count": 82,
   "metadata": {},
   "outputs": [
    {
     "name": "stdout",
     "output_type": "stream",
     "text": [
      "Time: 62.48s\n"
     ]
    },
    {
     "data": {
      "text/plain": [
       "'Psychology is the study of the mind and of thought, feeling, and behaviour. It is an academic and used discipline which includes the scientific study of mental responsibilities and behaviours. [ 1 ] 2 ] 3 ] 4 ] 5 ] Psychology agreements mostly with humans but also sometimes with animals. Because psychology is harder to study as a whole, psychologists often only look at small parts of it at one time. Psychology has much in common with many other fields, and overlaps with many of them. Some of these fields are medicine, ethology, computers science, and linguistics. In this field, a professional practitioner or researcher is called a psychologist and is a social, behavioural, or cognitive scientist. Psychologists attempt to understand the role of mental responsibilities in individual and social behavior. They also investigate the physiological and neurobiological processes which underlie cognitive responsibilities and b.'"
      ]
     },
     "execution_count": 82,
     "metadata": {},
     "output_type": "execute_result"
    }
   ],
   "source": [
    "make_simple_english(MyText, threshold=2.5, dictionary=my_dict, save_bypass=True)"
   ]
  },
  {
   "cell_type": "code",
   "execution_count": 83,
   "metadata": {},
   "outputs": [
    {
     "name": "stdout",
     "output_type": "stream",
     "text": [
      "my_dict['underlie'] = ['underlie', 'underlie']\n",
      "my_dict['academic'] = ['academic', 'academic']\n",
      "my_dict['psychology'] = ['psychology', 'psychology']\n",
      "my_dict['physiological'] = ['physiological', 'physiological']\n",
      "my_dict['psychologists'] = ['psychologists', 'psychologists']\n",
      "my_dict['neurobiological'] = ['neurobiological', 'neurobiological']\n",
      "my_dict['applied'] = [u'used', u'used']\n",
      "my_dict['professional'] = ['professional', 'professional']\n",
      "my_dict['humans'] = ['humans', 'humans']\n",
      "my_dict['computer'] = ['computers', u'computers']\n",
      "my_dict['practitioner'] = ['practitioner', 'practitioner']\n",
      "my_dict['functions'] = [u'responsibilities', u'responsibilities']\n",
      "my_dict['researcher'] = ['researcher', 'researcher']\n",
      "my_dict['mental'] = ['mental', 'mental']\n",
      "my_dict['cognitive'] = ['cognitive', 'cognitive']\n",
      "my_dict['linguistics'] = ['linguistics', 'linguistics']\n",
      "my_dict['ethology'] = ['ethology', 'ethology']\n",
      "my_dict['psychologist'] = ['psychologist', 'psychologist']\n",
      "my_dict['difficult'] = [u'harder', u'harder']\n",
      "my_dict['overlaps'] = ['overlaps', 'overlaps']\n",
      "my_dict['deals'] = [u'agreements', u'agreements']\n",
      "my_dict['explore'] = ['investigate', u'examine']\n"
     ]
    }
   ],
   "source": [
    "hold = hold_dict.keys()\n",
    "my = my_dict.keys()\n",
    "for key in my_dict.keys():\n",
    "    if key not in hold:\n",
    "        print \"my_dict['{}'] = {}\".format(key, my_dict[key])\n",
    "        if my_dict[key][1] not in my:\n",
    "            print \"my_dict['{}'] = {}\".format(my_dict[key][1], my_dict[key][1])"
   ]
  },
  {
   "cell_type": "code",
   "execution_count": 85,
   "metadata": {},
   "outputs": [],
   "source": [
    "my_dict['underlie'] = ['cause', 'cause']\n",
    "my_dict['underlying'] = ['basic', 'basic']\n",
    "my_dict['academic'] = ['academic', 'academic']\n",
    "my_dict['psychology'] = ['psychology', 'psychology']\n",
    "my_dict['physiological'] = ['physiological', 'physiology']\n",
    "my_dict['psychologists'] = ['psychologists', 'psychologists']\n",
    "my_dict['neurobiological'] = ['neurobiological', 'neurobiological']\n",
    "my_dict['applied'] = [u'applied', u'apply']\n",
    "my_dict['professional'] = ['professional', 'professional']\n",
    "my_dict['humans'] = ['humans', 'human']\n",
    "my_dict['computer'] = ['computers', u'computer']\n",
    "my_dict['practitioner'] = ['practitioner', 'practitioner']\n",
    "my_dict['functions'] = [u'functions', u'function']\n",
    "my_dict['researcher'] = ['researcher', 'search']\n",
    "my_dict['mental'] = ['mental', 'mental']\n",
    "my_dict['cognitive'] = ['cognitive', 'cognitive']\n",
    "my_dict['linguistics'] = ['linguistics', 'linguistics']\n",
    "my_dict['ethology'] = ['ethology', 'ethology']\n",
    "my_dict['psychologist'] = ['psychologist', 'psychologist']\n",
    "my_dict['difficult'] = [u'hard', u'hard']\n",
    "my_dict['overlaps'] = ['overlaps', 'overlap']\n",
    "my_dict['deals'] = [u'agreements', u'agree']\n",
    "my_dict['explore'] = ['investigate', u'examine']"
   ]
  },
  {
   "cell_type": "code",
   "execution_count": null,
   "metadata": {},
   "outputs": [],
   "source": [
    "my_dict['error']\n",
    "vjvjvjvhvh"
   ]
  },
  {
   "cell_type": "code",
   "execution_count": 86,
   "metadata": {},
   "outputs": [
    {
     "name": "stdout",
     "output_type": "stream",
     "text": [
      "$: dollar\n",
      "    $ -$ --$ A$ C$ HK$ M$ NZ$ S$ U.S.$ US$\n",
      "'': closing quotation mark\n",
      "    ' ''\n",
      "(: opening parenthesis\n",
      "    ( [ {\n",
      "): closing parenthesis\n",
      "    ) ] }\n",
      ",: comma\n",
      "    ,\n",
      "--: dash\n",
      "    --\n",
      ".: sentence terminator\n",
      "    . ! ?\n",
      ":: colon or ellipsis\n",
      "    : ; ...\n",
      "CC: conjunction, coordinating\n",
      "    & 'n and both but either et for less minus neither nor or plus so\n",
      "    therefore times v. versus vs. whether yet\n",
      "CD: numeral, cardinal\n",
      "    mid-1890 nine-thirty forty-two one-tenth ten million 0.5 one forty-\n",
      "    seven 1987 twenty '79 zero two 78-degrees eighty-four IX '60s .025\n",
      "    fifteen 271,124 dozen quintillion DM2,000 ...\n",
      "DT: determiner\n",
      "    all an another any both del each either every half la many much nary\n",
      "    neither no some such that the them these this those\n",
      "EX: existential there\n",
      "    there\n",
      "FW: foreign word\n",
      "    gemeinschaft hund ich jeux habeas Haementeria Herr K'ang-si vous\n",
      "    lutihaw alai je jour objets salutaris fille quibusdam pas trop Monte\n",
      "    terram fiche oui corporis ...\n",
      "IN: preposition or conjunction, subordinating\n",
      "    astride among uppon whether out inside pro despite on by throughout\n",
      "    below within for towards near behind atop around if like until below\n",
      "    next into if beside ...\n",
      "JJ: adjective or numeral, ordinal\n",
      "    third ill-mannered pre-war regrettable oiled calamitous first separable\n",
      "    ectoplasmic battery-powered participatory fourth still-to-be-named\n",
      "    multilingual multi-disciplinary ...\n",
      "JJR: adjective, comparative\n",
      "    bleaker braver breezier briefer brighter brisker broader bumper busier\n",
      "    calmer cheaper choosier cleaner clearer closer colder commoner costlier\n",
      "    cozier creamier crunchier cuter ...\n",
      "JJS: adjective, superlative\n",
      "    calmest cheapest choicest classiest cleanest clearest closest commonest\n",
      "    corniest costliest crassest creepiest crudest cutest darkest deadliest\n",
      "    dearest deepest densest dinkiest ...\n",
      "LS: list item marker\n",
      "    A A. B B. C C. D E F First G H I J K One SP-44001 SP-44002 SP-44005\n",
      "    SP-44007 Second Third Three Two * a b c d first five four one six three\n",
      "    two\n",
      "MD: modal auxiliary\n",
      "    can cannot could couldn't dare may might must need ought shall should\n",
      "    shouldn't will would\n",
      "NN: noun, common, singular or mass\n",
      "    common-carrier cabbage knuckle-duster Casino afghan shed thermostat\n",
      "    investment slide humour falloff slick wind hyena override subhumanity\n",
      "    machinist ...\n",
      "NNP: noun, proper, singular\n",
      "    Motown Venneboerger Czestochwa Ranzer Conchita Trumplane Christos\n",
      "    Oceanside Escobar Kreisler Sawyer Cougar Yvette Ervin ODI Darryl CTCA\n",
      "    Shannon A.K.C. Meltex Liverpool ...\n",
      "NNPS: noun, proper, plural\n",
      "    Americans Americas Amharas Amityvilles Amusements Anarcho-Syndicalists\n",
      "    Andalusians Andes Andruses Angels Animals Anthony Antilles Antiques\n",
      "    Apache Apaches Apocrypha ...\n",
      "NNS: noun, common, plural\n",
      "    undergraduates scotches bric-a-brac products bodyguards facets coasts\n",
      "    divestitures storehouses designs clubs fragrances averages\n",
      "    subjectivists apprehensions muses factory-jobs ...\n",
      "PDT: pre-determiner\n",
      "    all both half many quite such sure this\n",
      "POS: genitive marker\n",
      "    ' 's\n",
      "PRP: pronoun, personal\n",
      "    hers herself him himself hisself it itself me myself one oneself ours\n",
      "    ourselves ownself self she thee theirs them themselves they thou thy us\n",
      "PRP$: pronoun, possessive\n",
      "    her his mine my our ours their thy your\n",
      "RB: adverb\n",
      "    occasionally unabatingly maddeningly adventurously professedly\n",
      "    stirringly prominently technologically magisterially predominately\n",
      "    swiftly fiscally pitilessly ...\n",
      "RBR: adverb, comparative\n",
      "    further gloomier grander graver greater grimmer harder harsher\n",
      "    healthier heavier higher however larger later leaner lengthier less-\n",
      "    perfectly lesser lonelier longer louder lower more ...\n",
      "RBS: adverb, superlative\n",
      "    best biggest bluntest earliest farthest first furthest hardest\n",
      "    heartiest highest largest least less most nearest second tightest worst\n",
      "RP: particle\n",
      "    aboard about across along apart around aside at away back before behind\n",
      "    by crop down ever fast for forth from go high i.e. in into just later\n",
      "    low more off on open out over per pie raising start teeth that through\n",
      "    under unto up up-pp upon whole with you\n",
      "SYM: symbol\n",
      "    % & ' '' ''. ) ). * + ,. < = > @ A[fj] U.S U.S.S.R * ** ***\n",
      "TO: \"to\" as preposition or infinitive marker\n",
      "    to\n",
      "UH: interjection\n",
      "    Goodbye Goody Gosh Wow Jeepers Jee-sus Hubba Hey Kee-reist Oops amen\n",
      "    huh howdy uh dammit whammo shucks heck anyways whodunnit honey golly\n",
      "    man baby diddle hush sonuvabitch ...\n",
      "VB: verb, base form\n",
      "    ask assemble assess assign assume atone attention avoid bake balkanize\n",
      "    bank begin behold believe bend benefit bevel beware bless boil bomb\n",
      "    boost brace break bring broil brush build ...\n",
      "VBD: verb, past tense\n",
      "    dipped pleaded swiped regummed soaked tidied convened halted registered\n",
      "    cushioned exacted snubbed strode aimed adopted belied figgered\n",
      "    speculated wore appreciated contemplated ...\n",
      "VBG: verb, present participle or gerund\n",
      "    telegraphing stirring focusing angering judging stalling lactating\n",
      "    hankerin' alleging veering capping approaching traveling besieging\n",
      "    encrypting interrupting erasing wincing ...\n",
      "VBN: verb, past participle\n",
      "    multihulled dilapidated aerosolized chaired languished panelized used\n",
      "    experimented flourished imitated reunifed factored condensed sheared\n",
      "    unsettled primed dubbed desired ...\n",
      "VBP: verb, present tense, not 3rd person singular\n",
      "    predominate wrap resort sue twist spill cure lengthen brush terminate\n",
      "    appear tend stray glisten obtain comprise detest tease attract\n",
      "    emphasize mold postpone sever return wag ...\n",
      "VBZ: verb, present tense, 3rd person singular\n",
      "    bases reconstructs marks mixes displeases seals carps weaves snatches\n",
      "    slumps stretches authorizes smolders pictures emerges stockpiles\n",
      "    seduces fizzes uses bolsters slaps speaks pleads ...\n",
      "WDT: WH-determiner\n",
      "    that what whatever which whichever\n",
      "WP: WH-pronoun\n",
      "    that what whatever whatsoever which who whom whosoever\n",
      "WP$: WH-pronoun, possessive\n",
      "    whose\n",
      "WRB: Wh-adverb\n",
      "    how however whence whenever where whereby whereever wherein whereof why\n",
      "``: opening quotation mark\n",
      "    ` ``\n"
     ]
    }
   ],
   "source": [
    "from nltk.help import upenn_tagset\n",
    "upenn_tagset()"
   ]
  },
  {
   "cell_type": "code",
   "execution_count": 87,
   "metadata": {
    "collapsed": true
   },
   "outputs": [],
   "source": [
    "    with open('data/basic_english.pickle', 'wb') as handle:\n",
    "         pickle.dump(my_dict, handle, protocol=pickle.HIGHEST_PROTOCOL)"
   ]
  },
  {
   "cell_type": "code",
   "execution_count": null,
   "metadata": {
    "collapsed": true
   },
   "outputs": [],
   "source": []
  },
  {
   "cell_type": "code",
   "execution_count": null,
   "metadata": {},
   "outputs": [],
   "source": [
    "\n"
   ]
  },
  {
   "cell_type": "code",
   "execution_count": null,
   "metadata": {
    "collapsed": true
   },
   "outputs": [],
   "source": []
  }
 ],
 "metadata": {
  "kernelspec": {
   "display_name": "Python 2",
   "language": "python",
   "name": "python2"
  },
  "language_info": {
   "codemirror_mode": {
    "name": "ipython",
    "version": 2
   },
   "file_extension": ".py",
   "mimetype": "text/x-python",
   "name": "python",
   "nbconvert_exporter": "python",
   "pygments_lexer": "ipython2",
   "version": "2.7.13"
  }
 },
 "nbformat": 4,
 "nbformat_minor": 2
}
