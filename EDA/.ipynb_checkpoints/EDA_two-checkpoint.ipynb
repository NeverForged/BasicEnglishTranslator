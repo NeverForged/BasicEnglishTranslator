{
 "cells": [
  {
   "cell_type": "code",
   "execution_count": null,
   "metadata": {},
   "outputs": [],
   "source": [
    "import os\n",
    "import sys\n",
    "import pandas as pd\n",
    "import unicodedata\n",
    "import numpy as np\n",
    "from nltk.corpus import stopwords\n",
    "from nltk.help import upenn_tagset\n",
    "from sklearn.feature_extraction.text import CountVectorizer\n",
    "import string\n",
    "\n",
    "\n",
    "from collections import Counter\n",
    "from sklearn.metrics.pairwise import cosine_similarity, euclidean_distances\n",
    "from sklearn.feature_extraction.text import CountVectorizer, TfidfVectorizer\n",
    "\n",
    "from nltk.stem import WordNetLemmatizer\n",
    "from nltk.corpus import stopwords\n",
    "import re\n",
    "import nltk.data\n",
    "from gensim.models import Word2Vec\n",
    "import gensim as gensim"
   ]
  },
  {
   "cell_type": "code",
   "execution_count": null,
   "metadata": {
    "collapsed": true
   },
   "outputs": [],
   "source": [
    "class Book:\n",
    "    \n",
    "    def __init__(self, book):\n",
    "        self.title = ''\n",
    "        self.author = ''\n",
    "        #             self.title = book[8].strip().replace('Title: ','')\n",
    "        #             self.author = book[1].strip()\n",
    "        #             self.region = book[4].strip()\n",
    "        #             self.lifespan = book[2].strip()\n",
    "        #             self.topics = [topic.strip() for topic in book[5].split(',')]\n",
    "        #             self.type = book[7]\n",
    "        #             self.text = \"\".join(book[11:])\n",
    "        #             self.clean_text = \"\"\n",
    "        #             self.author = book[10 .strip().replace('Author: ','')\n",
    "        n = len(book)\n",
    "        lim = 30\n",
    "        if lim > n:\n",
    "            lim = n\n",
    "        # Project Gutenburg has no way to determine front matter,\n",
    "        # so cut first 5% to avoid it\n",
    "        start = int(n - 0.95*n)\n",
    "        for line in book[:lim]:\n",
    "            if 'Title: ' in line:\n",
    "                self.title = line.strip().replace('Title: ','')\n",
    "            if 'Author: ' in line:\n",
    "                self.author = line.strip().replace('Author: ','')\n",
    "        # start set to strip off various lengths of front-matter\n",
    "        temp_text = \"\".join(book[start:]).decode('utf-8')\n",
    "        # -19350 to strip off the Project Gutenberg donation requests\n",
    "        self.text = temp_text[0:len(temp_text) - 19350]\n",
    "        self.clean_text = ''\n",
    "        self.meaningful_words = []\n",
    "\n",
    "    def clean(self):\n",
    "        # Get rid of line breaks. \n",
    "        x = self.text.split(\"\\n\")\n",
    "        x = [i.strip() for i in x]\n",
    "        self.clean_text = \" \".join(x)\n",
    "\n",
    "        # Lower case.\n",
    "        self.clean_text = self.clean_text.lower()\n",
    "\n",
    "        # Remove punctuations\n",
    "        tbl = dict.fromkeys(i for i in xrange(sys.maxunicode)\n",
    "                  if unicodedata.category(unichr(i)).startswith('P'))\n",
    "        self.clean_text = self.clean_text.translate(tbl)\n",
    "\n",
    "        # Remove spaces.\n",
    "        self.clean_text = self.clean_text.replace(\"  \",\" \")\n",
    "        while \"  \" in self.clean_text:\n",
    "            self.clean_text = self.clean_text.replace(\"  \",\" \")\n",
    "    \n",
    "    \n",
    "    def remove_stop_words(self):\n",
    "        stops = set(stopwords.words(\"english\"))\n",
    "        words = self.clean_text.split()\n",
    "        self.meaningful_words = [w for w in words if not w in stops]  \n",
    "\n",
    "\n",
    "    def __getitem__(self, index):\n",
    "        if index == 0:\n",
    "            return self.clean_text\n",
    "        if index == 1:\n",
    "            return self.title\n",
    "        if index == 2:\n",
    "            return self.author"
   ]
  },
  {
   "cell_type": "code",
   "execution_count": null,
   "metadata": {
    "collapsed": true
   },
   "outputs": [],
   "source": [
    "# Load the corpus of books from a subdirectory. \n",
    "book_corpus = []\n",
    "author = 'dumas'\n",
    "for filename in os.listdir('./data/' + author):\n",
    "    if filename[-3:] == 'txt':\n",
    "        f = open('./data/' + author + '/' + filename)\n",
    "        book = Book(f.readlines())\n",
    "        f.close()\n",
    "        book_corpus.append(book)\n",
    "        "
   ]
  },
  {
   "cell_type": "code",
   "execution_count": null,
   "metadata": {
    "collapsed": true
   },
   "outputs": [],
   "source": [
    "n = int(len(book_corpus)*.4)\n",
    "train_corpus = [book for book in book_corpus[:len(book_corpus) - n]]\n",
    "test_corpus = [book for book in book_corpus[len(book_corpus) + 1 - n:]]"
   ]
  },
  {
   "cell_type": "code",
   "execution_count": null,
   "metadata": {
    "collapsed": true
   },
   "outputs": [],
   "source": [
    "for book in train_corpus:\n",
    "    book.clean()\n",
    "    book.remove_stop_words()\n",
    "\n",
    "for book in test_corpus:\n",
    "    book.clean()\n",
    "    book.remove_stop_words()"
   ]
  },
  {
   "cell_type": "code",
   "execution_count": null,
   "metadata": {
    "collapsed": true
   },
   "outputs": [],
   "source": [
    "train_set = []\n",
    "for book in train_corpus:\n",
    "    [train_set.append(word) for word in book.meaningful_words]\n",
    "    \n",
    "test_set = []\n",
    "for book in test_corpus:\n",
    "    [test_set.append(word) for word in book.meaningful_words]"
   ]
  },
  {
   "cell_type": "code",
   "execution_count": null,
   "metadata": {
    "collapsed": true
   },
   "outputs": [],
   "source": [
    "# Initialize the \"CountVectorizer\" object, which is scikit-learn's\n",
    "# bag of words tool.  \n",
    "vectorizer = CountVectorizer(analyzer = \"word\",   \n",
    "                             tokenizer = None,    \n",
    "                             preprocessor = None, \n",
    "                             stop_words = None,   \n",
    "                             max_features = 5000) \n",
    "\n",
    "# fit_transform() does two functions: First, it fits the model\n",
    "# and learns the vocabulary; second, it transforms our training data\n",
    "# into feature vectors. The input to fit_transform should be a list of \n",
    "# strings.\n",
    "train_data_features = vectorizer.fit_transform(train_set)\n",
    "\n",
    "# Numpy arrays are easy to work with, so convert the result to an \n",
    "# array\n",
    "train_data_features = train_data_features.toarray()"
   ]
  },
  {
   "cell_type": "code",
   "execution_count": null,
   "metadata": {},
   "outputs": [],
   "source": [
    "len(train_data_features[0])"
   ]
  },
  {
   "cell_type": "code",
   "execution_count": null,
   "metadata": {},
   "outputs": [],
   "source": [
    "vocab = vectorizer.get_feature_names()\n",
    "print vocab[-25:]"
   ]
  },
  {
   "cell_type": "code",
   "execution_count": null,
   "metadata": {
    "collapsed": true
   },
   "outputs": [],
   "source": [
    "# Sum up the counts of each vocabulary word\n",
    "dist = np.sum(train_data_features, axis=0)\n",
    "\n",
    "# For each, print the vocabulary word and the number of times it \n",
    "# appears in the training set\n",
    "# for tag, count in zip(vocab, dist):\n",
    " #   print count, tag"
   ]
  },
  {
   "cell_type": "code",
   "execution_count": null,
   "metadata": {},
   "outputs": [],
   "source": [
    "print dist[0]"
   ]
  },
  {
   "cell_type": "code",
   "execution_count": null,
   "metadata": {
    "collapsed": true
   },
   "outputs": [],
   "source": [
    "# Load the punkt tokenizer\n",
    "tokenizer = nltk.data.load('tokenizers/punkt/english.pickle')"
   ]
  },
  {
   "cell_type": "code",
   "execution_count": null,
   "metadata": {
    "collapsed": true
   },
   "outputs": [],
   "source": [
    "# Define a function to split a book into parsed sentences\n",
    "def book_to_sentences(book, tokenizer, remove_stopwords=False ):\n",
    "    # Function to split a review into parsed sentences. Returns a \n",
    "    # list of sentences, where each sentence is a list of words\n",
    "    #\n",
    "    # 1. Use the NLTK tokenizer to split the paragraph into sentences\n",
    "    raw_sentences = tokenizer.tokenize(book.text.encode(\"ascii\",\"ignore\").strip())\n",
    "    #\n",
    "    # 2. Loop over each sentence\n",
    "    sentences = []\n",
    "    for raw_sentence in raw_sentences:\n",
    "        # If a sentence is empty, skip it\n",
    "        if len(raw_sentence) > 0:\n",
    "            # Otherwise, call review_to_wordlist to get a list of words\n",
    "            sentences.append( book_to_wordlist( raw_sentence, remove_stopwords ))\n",
    "    #\n",
    "    # Return the list of sentences (each sentence is a list of words,\n",
    "    # so this returns a list of lists\n",
    "    return sentences\n",
    "\n",
    "def book_to_wordlist(book_text, remove_stopwords=False ):\n",
    "    # Function to convert a document to a sequence of words,\n",
    "    # optionally removing stop words.  Returns a list of words.\n",
    "    #\n",
    "    #  \n",
    "    #  Decode from UTF-8\n",
    "#     tbl = dict.fromkeys(i for i in xrange(sys.maxunicode)\n",
    "#               if unicodedata.category(unichr(i)).startswith('P'))\n",
    "#     book_text = book.text.translate(tbl)\n",
    "\n",
    "    #\n",
    "    # 3. Convert words to lower case and split themstring.decode('utf-8')\n",
    "    words = book_text.lower().split()\n",
    "    #\n",
    "    # 4. Optionally remove stop words (false by default)\n",
    "    if remove_stopwords:\n",
    "        stops = set(stopwords.words(\"english\"))\n",
    "        words = [w for w in words if not w in stops]\n",
    "    #\n",
    "    # 5. Return a list of words\n",
    "    return words"
   ]
  },
  {
   "cell_type": "code",
   "execution_count": null,
   "metadata": {},
   "outputs": [],
   "source": [
    "sentences = []  # Initialize an empty list of sentences\n",
    "\n",
    "\n",
    "print \"Parsing sentences from training set\"\n",
    "for book in train_corpus:\n",
    "    sentences += book_to_sentences(book, tokenizer)\n",
    "    \n",
    "    \n",
    "# print \"Parsing sentences from unlabeled set\"\n",
    "# for review in unlabeled_train[\"review\"]:\n",
    "#     sentences += review_to_sentences(review, tokenizer"
   ]
  },
  {
   "cell_type": "code",
   "execution_count": null,
   "metadata": {},
   "outputs": [],
   "source": [
    "# Import the built-in logging module and configure it so that Word2Vec \n",
    "# creates nice output messages\n",
    "import logging\n",
    "logging.basicConfig(format='%(asctime)s : %(levelname)s : %(message)s',\\\n",
    "    level=logging.INFO)\n",
    "\n",
    "# Set values for various parameters\n",
    "num_features = 300    # Word vector dimensionality                      \n",
    "min_word_count = 40   # Minimum word count                        \n",
    "num_workers = 4       # Number of threads to run in parallel\n",
    "context = 10          # Context window size                                                                                    \n",
    "downsampling = 1e-3   # Downsample setting for frequent words\n",
    "\n",
    "# Initialize and train the model (this will take some time)\n",
    "from gensim.models import word2vec\n",
    "print \"Training model...\"\n",
    "model = word2vec.Word2Vec(sentences, workers=num_workers, \n",
    "                          size=num_features, min_count = min_word_count, \n",
    "                          window = context, sample = downsampling)\n",
    "\n",
    "# If you don't plan to train the model any further, calling \n",
    "# init_sims will make the model much more memory-efficient.\n",
    "model.init_sims(replace=True)\n",
    "\n",
    "# It can be helpful to create a meaningful model name and \n",
    "# save the model for later use. You can load it later using Word2Vec.load()\n",
    "model_name = str(num_features)+'features_'+str(min_word_count)+'min_word_count_'+str(context)+'context.npy'\n",
    "model.save(model_name)"
   ]
  },
  {
   "cell_type": "code",
   "execution_count": null,
   "metadata": {
    "collapsed": true
   },
   "outputs": [],
   "source": [
    "import numpy as np  # Make sure that numpy is imported\n",
    "\n",
    "def makeFeatureVec(words, model, num_features):\n",
    "    print words[:25]\n",
    "    # Function to average all of the word vectors in a given\n",
    "    # paragraph\n",
    "    #\n",
    "    # Pre-initialize an empty numpy array (for speed)\n",
    "    featureVec = np.zeros((num_features,),dtype=\"float32\")\n",
    "    #\n",
    "    nwords = 0.\n",
    "    # \n",
    "    # Index2word is a list that contains the names of the words in \n",
    "    # the model's vocabulary. Convert it to a set, for speed \n",
    "    index2word_set = set(model.wv.index2word)\n",
    "    #\n",
    "    # Loop over each word in the review and, if it is in the model's\n",
    "    # vocaublary, add its feature vector to the total\n",
    "    for word in words:\n",
    "        if word != None:\n",
    "            if word in index2word_set:\n",
    "                nwords = nwords + 1.\n",
    "                featureVec = np.add(featureVec,model[word])\n",
    "    # \n",
    "    # Divide the result by the number of words to get the average\n",
    "    featureVec = np.divide(featureVec, nwords)\n",
    "    return featureVec\n",
    "\n",
    "\n",
    "def getAvgFeatureVecs(books, model, num_features):\n",
    "    # Given a set of books (each one a list of words), calculate \n",
    "    # the average feature vector for each one and return a 2D numpy array \n",
    "    # \n",
    "    # Initialize a counter\n",
    "    counter = 0\n",
    "    # \n",
    "    # Preallocate a 2D numpy array, for speed\n",
    "    bookFeatureVecs = np.zeros((len(books),num_features),dtype=\"float32\")\n",
    "    # \n",
    "    # Loop through the reviews\n",
    "    for book in books:\n",
    "        # Print a status message every other book\n",
    "        print \"Book %d of %d\" % (counter, len(books))\n",
    "        # \n",
    "        # Call the function (defined above) that makes average feature vectors\n",
    "        bookFeatureVecs[counter] = makeFeatureVec(book.clean_text.split(), model, num_features)\n",
    "        #\n",
    "        # Increment the counter\n",
    "        counter = counter + 1\n",
    "    return bookFeatureVecs"
   ]
  },
  {
   "cell_type": "code",
   "execution_count": null,
   "metadata": {},
   "outputs": [],
   "source": [
    "getAvgFeatureVecs(book_corpus, model, num_features)"
   ]
  },
  {
   "cell_type": "code",
   "execution_count": null,
   "metadata": {
    "collapsed": true
   },
   "outputs": [],
   "source": [
    "import random\n",
    "\n",
    "def rewrite_my_text(my_text, model):\n",
    "    wordlist = model.wv.index2word\n",
    "    punctuation = '.?!\",;:()'.split()\n",
    "    for mark in punctuation:\n",
    "        my_text = my_text.replace(mark, ' ' + mark)\n",
    "    lst = my_text.split()\n",
    "    lst_new = []\n",
    "    for word in lst:\n",
    "        if (len(word) > 3) and (word in wordlist):\n",
    "            word = word.strip()\n",
    "            lst_new.append(model.most_similar(word)[0][0])\n",
    "        else:\n",
    "            lst_new.append(word)\n",
    "    ret = ' '.join(lst_new)\n",
    "    for mark in punctuation:\n",
    "        ret = ret.replace(' ' + mark, mark)\n",
    "    return ret"
   ]
  },
  {
   "cell_type": "code",
   "execution_count": null,
   "metadata": {
    "collapsed": true
   },
   "outputs": [],
   "source": [
    "MyText = \"\"\"\n",
    "\n",
    "\"\"\""
   ]
  },
  {
   "cell_type": "code",
   "execution_count": null,
   "metadata": {},
   "outputs": [],
   "source": [
    "# For fun\n",
    "rewrite_my_text(MyText, model)"
   ]
  },
  {
   "cell_type": "code",
   "execution_count": null,
   "metadata": {
    "collapsed": true
   },
   "outputs": [],
   "source": [
    "#upenn_tagset()\n"
   ]
  },
  {
   "cell_type": "code",
   "execution_count": null,
   "metadata": {
    "collapsed": true
   },
   "outputs": [],
   "source": [
    "from nltk import pos_tag, word_tokenize\n",
    "tagged_words = pos_tag(book_corpus[0].clean_text.split())"
   ]
  },
  {
   "cell_type": "code",
   "execution_count": null,
   "metadata": {},
   "outputs": [],
   "source": [
    "tagged_words[0]"
   ]
  },
  {
   "cell_type": "code",
   "execution_count": null,
   "metadata": {},
   "outputs": [],
   "source": [
    "type(tagged_words[0])"
   ]
  },
  {
   "cell_type": "code",
   "execution_count": null,
   "metadata": {},
   "outputs": [],
   "source": [
    "Google_model = gensim.models.KeyedVectors.load_word2vec_format('./model/GoogleNews-vectors-negative300.bin', binary=True)"
   ]
  },
  {
   "cell_type": "code",
   "execution_count": null,
   "metadata": {
    "collapsed": true
   },
   "outputs": [],
   "source": [
    "simple_english_df = pd.read_csv('data/simple_english_wordlist.csv')\n",
    "simple_english = [a for a in simple_english_df['a']]\n",
    "simple_english.append('a')\n",
    "simple_english.append('an')\n",
    "simple_english.append('is')"
   ]
  },
  {
   "cell_type": "code",
   "execution_count": null,
   "metadata": {
    "collapsed": true,
    "scrolled": true
   },
   "outputs": [],
   "source": [
    "import cPickle as pickle\n",
    "from nltk.stem.lancaster import LancasterStemmer\n",
    "\n",
    "\n",
    "\n",
    "try:\n",
    "    my_dict = pickle.load(open('data/simple_english_translations.pickle', \"rb\" ))\n",
    "except:\n",
    "    st = LancasterStemmer()\n",
    "    stem_se = [st.stem(word) for word in simple_english]\n",
    "    print 'stem_se...done'\n",
    "    vocab_google = Google_model.vocab.keys()\n",
    "    stem_gn = [st.stem(key) for key in Google_model.vocab.keys()]\n",
    "    print 'stem_gn...done'\n",
    "    my_dict = {}\n",
    "    simple_english = list(pd.read_csv('data/simple_english_wordlist.csv', header=None)[0])\n",
    "    threshold = 0.4\n",
    "    for sim_in in xrange(len(simple_english)):\n",
    "        my_dict[simple_english[sim_in]] = simple_english[sim_in]\n",
    "        print\n",
    "        print simple_english[sim_in]\n",
    "        print '**'*8\n",
    "        indices = [i for i, s in enumerate(stem_gn) if stem_se[sim_in] == s]\n",
    "        check = [i for i, s in enumerate(vocab_google) if simple_english[sim_in] == s]\n",
    "        #print check, indices\n",
    "        if len(check) > 0:\n",
    "            for index in indices: \n",
    "                if Google_model.similarity(simple_english[sim_in], vocab_google[index]) >= threshold:\n",
    "                    print '{} -> {}'.format(vocab_google[index], Google_model.similarity(simple_english[sim_in], vocab_google[index]))\n",
    "                    my_dict[vocab_google[index]] = vocab_google[index]\n",
    "    with open('data/simple_english_translations.pickle', 'wb') as handle:\n",
    "         pickle.dump(my_dict, handle, protocol=pickle.HIGHEST_PROTOCOL)\n"
   ]
  },
  {
   "cell_type": "code",
   "execution_count": null,
   "metadata": {},
   "outputs": [],
   "source": [
    "# upenn_tagset()\n",
    "print 'hi'"
   ]
  },
  {
   "cell_type": "code",
   "execution_count": null,
   "metadata": {
    "collapsed": true
   },
   "outputs": [],
   "source": [
    "import time as time\n",
    "import sys \n",
    "from nltk import pos_tag, word_tokenize\n",
    "from math import sqrt\n",
    "\n",
    "\n",
    "def make_simple_english(input_text, threshold=0):\n",
    "    '''\n",
    "    Return the input_text translated into simple english\n",
    "    Input: String\n",
    "    Output: String\n",
    "    '''\n",
    "    if threshold == 0:\n",
    "        threshold = 60.0/sqrt(len(input_text))\n",
    "    done = 0\n",
    "    # timer...\n",
    "    start= time.clock()\n",
    "    input_text = input_text.replace('—',' - ').replace(\"’\",\" ' \")\n",
    "    input_text = ''.join([a if ord(a) < 128 else '' for a in list(input_text)])\n",
    "    words = pos_tag(word_tokenize(input_text))\n",
    "    #print words\n",
    "    # These simply pass thru the model\n",
    "\n",
    "    pass_thru = ['CD', # CD: numeral, cardinal\n",
    "                 'EX', # EX: existential there\n",
    "                 'FW', # FW: foreign word\n",
    "                 'LS', # LS: list item marker\n",
    "                 'NNP', # NNP: noun, proper, singular\n",
    "                 'NNPS', # NNPS: noun, proper, plural\n",
    "                 'PRP', # PRP: pronoun, personal\n",
    "                 'SYM', # SYM: symbol\n",
    "                 'TO', # TO: \"to\" as preposition or infinitive marker\n",
    "                 'POS',\n",
    "                 '$', # $: dollar\n",
    "                 '(',\n",
    "                 ')',\n",
    "                 ',',\n",
    "                 '.',\n",
    "                 '::',\n",
    "                 '\"'\n",
    "                ] \n",
    "    # make these simple\n",
    "    make_simple = ['CC', # CC: conjunction, coordinating\n",
    "                   'DT', # DT: determiner\n",
    "                   'IN', # IN: preposition or conjunction, subordinating\n",
    "                   'JJ', # JJ: adjective or numeral, ordinal\n",
    "                   'JJR', # JJR: adjective, comparative\n",
    "                   'JJS', # JJR: adjective, comparative\n",
    "                   'MD', # MD: modal auxiliary\n",
    "                   'NN', # NN: noun, common, singular or mass\n",
    "                   'NNS', # NNS: noun, common, plural\n",
    "                   'PDT', # PDT: pre-determiner\n",
    "                   'PDT', # PDT: pre-determiner\n",
    "                   'PRP$', # PRP$: pronoun, possessive\n",
    "                   'RB', # RB: adverb\n",
    "                   'RBR', # RBR: adverb, comparative\n",
    "                   'RBS', # RBS: adverb, superlative\n",
    "                   'RP', # RP: particle\n",
    "                   'UH', # UH: interjection\n",
    "                   'VB', # VB: verb, base form\n",
    "                   'VBD', # VBD: verb, past tense\n",
    "                   'VBG', # VBG: verb, present participle or gerund\n",
    "                   'VBN', # VBN: verb, past participle\n",
    "                   'VBP', # VBP: verb, present tense, not 3rd person singular\n",
    "                   'VBZ', # VBZ: verb, present tense, 3rd person singular\n",
    "                   'WDT', # WDT: WH-determiner\n",
    "                   'WP', # WP: WH-pronoun\n",
    "                   'WP$', # WP$: WH-pronoun, possessive\n",
    "                   'WRB' #WRB: Wh-adverb\n",
    "                  ]\n",
    "    done == 0\n",
    "    count_replacements = 0\n",
    "    lst_ret = []\n",
    "    for word in words:\n",
    "        if word[1] in pass_thru:\n",
    "            # put it in and move on...\n",
    "            lst_ret.append(word[0])\n",
    "        else:\n",
    "            # We have a word to replace...\n",
    "            clean = word[0].strip(string.punctuation).lower()\n",
    "            if clean in new_dict.keys():\n",
    "                # already simple...\n",
    "                lst_ret.append(retain_capitalization(new_dict[clean], word[0]))\n",
    "            else:\n",
    "                # print '*********************'\n",
    "                # print 'New word: {}'.format(word)\n",
    "                # NOT simple english...\n",
    "                start_this = time.clock()\n",
    "                try:\n",
    "                    lst = list(set(Google_model.most_similar(clean)))\n",
    "                    done = 0\n",
    "                    n = 0\n",
    "                    while done == 0:\n",
    "                        check = list(lst)[n][0]\n",
    "                        n +=1\n",
    "                        check_clean = check.strip(string.punctuation).lower()\n",
    "                        if check_clean in new_dict.keys():\n",
    "                            done = 1\n",
    "                            # add to dictionary...based on what's there\n",
    "                            new_dict[clean] = new_dict[check_clean]\n",
    "                            # add to lst\n",
    "                            lst_ret.append(retain_capitalization(new_dict[clean], word[0]))\n",
    "                            print \"     {}: {} -> {} ({}s) {}\".format(word, clean, check_clean, time.clock()-start_this, len(lst))\n",
    "                        else:\n",
    "                            # add all similar words to that to the lst\n",
    "                            if time.clock() - start_this < threshold:\n",
    "                                [lst.append(a) for a in Google_model.most_similar(check, topn=3) if a not in lst]\n",
    "                            else:\n",
    "                                done = 1\n",
    "                                lst_ret.append(retain_capitalization(new_dict[clean], word[0]))\n",
    "                                new_dict[clean] = new_dict[clean]\n",
    "                                print \"     {}: {} -> {} ({}s) {}\".format(word, clean, check_clean, time.clock()-start_this, len(lst))         \n",
    "                except:\n",
    "                    lst_ret.append(retain_capitalization(word[0], word[0]))\n",
    "                    new_dict[word[0].lower()] = word[0].lower()\n",
    "                    print \"     >{}: {} [->] {} ({}s)\".format(word, clean, word[0], time.clock()-start_this)\n",
    "#     if done == 1:\n",
    "#         for key in new_dict.keys():\n",
    "#             my_dict[key] = new_dict[key]\n",
    "    end = time.clock()\n",
    "    print 'Time: {:.2f}s'.format(end-start)\n",
    "    txt = replace_punctuation(' '.join(lst_ret))\n",
    "    txt = txt.encode('utf-8')\n",
    "    txt = re.sub(\"\\xe2\\x80\\x93\", \"-\", txt)\n",
    "    return txt\n",
    "\n",
    "\n",
    "def retain_capitalization(new_word, original_word):\n",
    "    '''\n",
    "    Checks the original_word for capitalization, if it has it, capitalizes the frst letter\n",
    "    of new_word, returns new_word.\n",
    "    '''\n",
    "    if original_word[0] in list('ABCDEFGHIJKLMNOPQRSTUVWXYZ'):\n",
    "        lst = list(new_word)\n",
    "        lst[0] = lst[0].upper()\n",
    "        new_word = ''.join(lst)\n",
    "    return new_word\n",
    "\n",
    "\n",
    "def replace_punctuation(text):\n",
    "    '''\n",
    "    Tokenizing takes the punctuation as it's own item in the list.\n",
    "    This takes the created string and replaces all 'end ?' with 'end?'\n",
    "    '''\n",
    "    text = text.replace(' .','.')\n",
    "    text = text.replace(' ?','?')\n",
    "    text = text.replace(' !','!')\n",
    "    text = text.replace(' ,',',')\n",
    "    text = text.replace(' ;',';')\n",
    "    text = text.replace(' \"','\"')\n",
    "    text = text.replace(\" '\",\"'\")\n",
    "    text = text.replace('( ','(')\n",
    "    text = text.replace(' )',')')\n",
    "    text = text.replace('$ ','$')\n",
    "    text = text.replace(' *','*')\n",
    "    return text"
   ]
  },
  {
   "cell_type": "code",
   "execution_count": null,
   "metadata": {
    "collapsed": true
   },
   "outputs": [],
   "source": [
    "#print new_text\n",
    "new_dict = my_dict.copy()"
   ]
  },
  {
   "cell_type": "code",
   "execution_count": null,
   "metadata": {
    "collapsed": true
   },
   "outputs": [],
   "source": [
    "MyText = \"\"\"\n",
    "In statistics, linear regression is an approach for modeling the relationship between a scalar dependent variable y and one or more explanatory variables (or independent variables) denoted X. The case of one explanatory variable is called simple linear regression. For more than one explanatory variable, the process is called multiple linear regression.[1] (This term is distinct from multivariate linear regression, where multiple correlated dependent variables are predicted, rather than a single scalar variable.)[2]\n",
    "In linear regression, the relationships are modeled using linear predictor functions whose unknown model parameters are estimated from the data. Such models are called linear models.[3] Most commonly, the conditional mean of y given the value of X is assumed to be an affine function of X; less commonly, the median or some other quantile of the conditional distribution of y given X is expressed as a linear function of X. Like all forms of regression analysis, linear regression focuses on the conditional probability distribution of y given X, rather than on the joint probability distribution of y and X, which is the domain of multivariate analysis.\n",
    "\"\"\""
   ]
  },
  {
   "cell_type": "code",
   "execution_count": null,
   "metadata": {
    "scrolled": false
   },
   "outputs": [],
   "source": [
    "new_text = make_simple_english(MyText, 300.0)"
   ]
  },
  {
   "cell_type": "code",
   "execution_count": null,
   "metadata": {
    "collapsed": true
   },
   "outputs": [],
   "source": []
  },
  {
   "cell_type": "code",
   "execution_count": null,
   "metadata": {},
   "outputs": [],
   "source": [
    "print new_text"
   ]
  },
  {
   "cell_type": "code",
   "execution_count": null,
   "metadata": {
    "collapsed": true
   },
   "outputs": [],
   "source": []
  },
  {
   "cell_type": "code",
   "execution_count": null,
   "metadata": {
    "scrolled": true
   },
   "outputs": [],
   "source": [
    "mykeys = my_dict.keys()\n",
    "l1 = len(mykeys)\n",
    "l2 = len(new_dict.keys())\n",
    "for key in new_dict.keys():\n",
    "    if key not in mykeys:\n",
    "        print \"my_dict['{}'] = '{}'\".format(key, new_dict[key])\n",
    "\n"
   ]
  },
  {
   "cell_type": "code",
   "execution_count": null,
   "metadata": {
    "collapsed": true
   },
   "outputs": [],
   "source": [
    "my_dict['structures'] = 'structures'\n",
    "\n"
   ]
  },
  {
   "cell_type": "code",
   "execution_count": null,
   "metadata": {
    "collapsed": true
   },
   "outputs": [],
   "source": [
    "\n",
    "with open('data/simple_english_translations.pickle', 'wb') as handle:\n",
    "       pickle.dump(my_dict, handle, protocol=pickle.HIGHEST_PROTOCOL)"
   ]
  },
  {
   "cell_type": "code",
   "execution_count": null,
   "metadata": {
    "collapsed": true
   },
   "outputs": [],
   "source": [
    "# this process was used to create the dictionary for my simple english words..."
   ]
  },
  {
   "cell_type": "markdown",
   "metadata": {
    "collapsed": true
   },
   "source": [
    "stem_se"
   ]
  },
  {
   "cell_type": "code",
   "execution_count": null,
   "metadata": {
    "collapsed": true
   },
   "outputs": [],
   "source": [
    "# for i, word in enumerate(simple_english):\n",
    "#     print '{}->{}'.format(word, stem_se[i])"
   ]
  },
  {
   "cell_type": "code",
   "execution_count": null,
   "metadata": {
    "collapsed": true
   },
   "outputs": [],
   "source": []
  },
  {
   "cell_type": "code",
   "execution_count": null,
   "metadata": {
    "collapsed": true
   },
   "outputs": [],
   "source": []
  },
  {
   "cell_type": "code",
   "execution_count": null,
   "metadata": {
    "collapsed": true
   },
   "outputs": [],
   "source": []
  },
  {
   "cell_type": "code",
   "execution_count": null,
   "metadata": {
    "collapsed": true
   },
   "outputs": [],
   "source": []
  },
  {
   "cell_type": "code",
   "execution_count": null,
   "metadata": {
    "collapsed": true
   },
   "outputs": [],
   "source": [
    "\n",
    "        "
   ]
  },
  {
   "cell_type": "code",
   "execution_count": null,
   "metadata": {
    "collapsed": true
   },
   "outputs": [],
   "source": []
  },
  {
   "cell_type": "code",
   "execution_count": null,
   "metadata": {
    "collapsed": true
   },
   "outputs": [],
   "source": [
    "\n",
    "\n",
    "        "
   ]
  },
  {
   "cell_type": "code",
   "execution_count": null,
   "metadata": {
    "collapsed": true
   },
   "outputs": [],
   "source": [
    "# with open('data/simple_english_translations.pickle', 'wb') as handle:\n",
    "#       pickle.dump(my_dict, handle, protocol=pickle.HIGHEST_PROTOCOL)"
   ]
  },
  {
   "cell_type": "code",
   "execution_count": null,
   "metadata": {
    "collapsed": true
   },
   "outputs": [],
   "source": []
  },
  {
   "cell_type": "code",
   "execution_count": null,
   "metadata": {
    "collapsed": true
   },
   "outputs": [],
   "source": []
  },
  {
   "cell_type": "code",
   "execution_count": null,
   "metadata": {
    "collapsed": true
   },
   "outputs": [],
   "source": []
  },
  {
   "cell_type": "code",
   "execution_count": null,
   "metadata": {
    "collapsed": true
   },
   "outputs": [],
   "source": []
  }
 ],
 "metadata": {
  "kernelspec": {
   "display_name": "Python 2",
   "language": "python",
   "name": "python2"
  },
  "language_info": {
   "codemirror_mode": {
    "name": "ipython",
    "version": 2
   },
   "file_extension": ".py",
   "mimetype": "text/x-python",
   "name": "python",
   "nbconvert_exporter": "python",
   "pygments_lexer": "ipython2",
   "version": "2.7.13"
  }
 },
 "nbformat": 4,
 "nbformat_minor": 2
}
